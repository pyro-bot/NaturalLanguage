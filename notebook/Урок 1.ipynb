{
  "cells": [
    {
      "cell_type": "markdown",
      "source": [
        "# Урок 1 - Препроцессинг текста\n",
        "\n",
        "В данном уровке рассказывается о методах первоначальной обработки текста, т.е. преобразование сырого текста в текст который можно в дальнейшем обрабатывать.\n",
        "Что же такой сырой текст - это текст который вы всегда видете (да, это самый обычный текст)\n",
        "\n",
        "Что же с ним не так:\n",
        "1. В нем есть знаки пунктуации\n",
        "2. В нем есть лишнии пробелы\n",
        "3. В нем есть абзацные оступы\n",
        "4. В нем есть стопслова\n",
        "\n",
        "**Стопслово** - *это слово которое не несут в себе свысловой нагрузки и его можно вырезать, как правило это служебные слова, например союзы и местоимения*\n",
        "\nТакже из текста необходимо удалить все частовстречаемые слова и очень реко встречаемые слова - это нужно делать из-за того что частовстречаемые слова, как и стоп слова не несут информации, а редко встречаемы слова удалаются из-за того что не получится получить адеквантый числовой аналог для таких слов. "
      ],
      "metadata": {
        "id": "ciIrb6ioBySY",
        "colab_type": "text"
      }
    },
    {
      "cell_type": "markdown",
      "source": [
        "## Установка необходимых компонентов и скачивание зависимостей"
      ],
      "metadata": {
        "id": "mym11e-fcL8I",
        "colab_type": "text"
      }
    },
    {
      "cell_type": "code",
      "source": [
        "!pip3 install gensim\n",
        "!git clone https://github.com/pyro-bot/NaturalLanguage.git"
      ],
      "outputs": [],
      "execution_count": null,
      "metadata": {
        "id": "U8RYE5V2cQqN",
        "colab_type": "code",
        "colab": {
          "base_uri": "https://localhost:8080/",
          "height": 395
        },
        "outputId": "0f5d1774-649a-4f29-e627-3afb7ca51eef",
        "executionInfo": {
          "status": "ok",
          "timestamp": 1536233756178,
          "user_tz": -300,
          "elapsed": 3718,
          "user": {
            "displayName": "Анатолий Шицелов",
            "photoUrl": "https://lh3.googleusercontent.com/a/default-user=s128",
            "userId": "115746618463509631654"
          }
        }
      }
    },
    {
      "cell_type": "markdown",
      "source": [
        "## Шаг 1 - токенизация\n",
        "\n",
        "Это процесс удалления всего из текста кроме слов и представления всего текста в виде массива слов.\n",
        "\n",
        "*В некоторый случаях массив токенов (слов) может быть многомерным, Например когда текст очень большой то можно разделить его еще и на абзацы*\n",
        "\n",
        "**И так подключим основные библиотеки для работы с текстом**\n",
        "\n",
        "- gensim - библиотека обработки языка\n",
        "- re - библиотека регулярных выражений"
      ],
      "metadata": {
        "id": "DdtSfEVsBySY",
        "colab_type": "text"
      }
    },
    {
      "cell_type": "code",
      "source": [
        "# Системные компоненты\n",
        "import os\n",
        "import sys\n",
        "\n",
        "# Работа со строками\n",
        "import gensim\n",
        "import re"
      ],
      "outputs": [],
      "execution_count": null,
      "metadata": {
        "id": "VmODAso1BySZ",
        "colab_type": "code",
        "colab": {}
      }
    },
    {
      "cell_type": "markdown",
      "source": [
        "Теперь можно прочитать текст из файла"
      ],
      "metadata": {
        "id": "yu7nUnXcBySc",
        "colab_type": "text"
      }
    },
    {
      "cell_type": "code",
      "source": [
        "raw_text_list = []\n",
        "with open('NaturalLanguage/texts/Вадим Панов - Тайный Город-1-4.txt', 'r', encoding='1251') as f:\n",
        "    raw_text_list = f.readlines()\n",
        "raw_text_list[:10]"
      ],
      "outputs": [],
      "execution_count": null,
      "metadata": {
        "id": "OKSmbltaBySc",
        "colab_type": "code",
        "colab": {
          "base_uri": "https://localhost:8080/",
          "height": 226
        },
        "outputId": "6fd1db25-75ff-412e-f5f0-2a242fd1c89b",
        "executionInfo": {
          "status": "ok",
          "timestamp": 1536233821206,
          "user_tz": -300,
          "elapsed": 697,
          "user": {
            "displayName": "Анатолий Шицелов",
            "photoUrl": "https://lh3.googleusercontent.com/a/default-user=s128",
            "userId": "115746618463509631654"
          }
        }
      }
    },
    {
      "cell_type": "markdown",
      "source": [
        "Склеим весь текст в одну строку.\n"
      ],
      "metadata": {
        "id": "kUbIWtbMBySd",
        "colab_type": "text"
      }
    },
    {
      "cell_type": "code",
      "source": [
        "# Функция join обеденяет элименты массива с указаной строкой разделителем \n",
        "# (это может быть именно строка символов, а не один символ)\n",
        "raw_text = ' '.join(raw_text_list)"
      ],
      "outputs": [],
      "execution_count": null,
      "metadata": {
        "id": "2MFLk3eFBySf",
        "colab_type": "code",
        "colab": {}
      }
    },
    {
      "cell_type": "markdown",
      "source": [
        "Теперь сама токенизация\n",
        "\n",
        "*Будем говорить, что нас интересуют слова минимум из 3 букв*\n",
        "\n",
        "Так же тут же можно его почистеть, удалив всё пунктуацию и служебные символы\n",
        "*посмотреть что лежит в переменной text можно сросто выполнив ячейку с кодом*\n",
        "\n",
        "> raw_text_list\n",
        "\n",
        "*Ctrl + Enter*\n"
      ],
      "metadata": {
        "id": "_q-OW9iyBySg",
        "colab_type": "text"
      }
    },
    {
      "cell_type": "code",
      "source": [
        "# Чистим текст и сразу разбиваем его на токены\n",
        "tokens = re.findall(r'(\\w{3,})', raw_text)\n",
        "# Тут же приводим все слова к одному регистру\n",
        "# надеюсь с синтаксисом генераторов вы знакомы\n",
        "tokens = [t.lower() for t in tokens]\n",
        "tokens[:10]"
      ],
      "outputs": [],
      "execution_count": null,
      "metadata": {
        "id": "efgGdDFlBySh",
        "colab_type": "code",
        "colab": {
          "base_uri": "https://localhost:8080/",
          "height": 206
        },
        "outputId": "d72ac0d9-8f6f-4e41-e77e-db1e36e13cd5",
        "executionInfo": {
          "status": "ok",
          "timestamp": 1536233828818,
          "user_tz": -300,
          "elapsed": 654,
          "user": {
            "displayName": "Анатолий Шицелов",
            "photoUrl": "https://lh3.googleusercontent.com/a/default-user=s128",
            "userId": "115746618463509631654"
          }
        }
      }
    },
    {
      "cell_type": "markdown",
      "source": [
        "## Шаг 2 - Удаление стопслов\n",
        "Теперь необходимо удалить стоп слова и в начале определим массив стопслов\n",
        "\n*В качестве источника слоплов возьмем библиотеку NLTK*"
      ],
      "metadata": {
        "id": "JRCgyVnnBySi",
        "colab_type": "text"
      }
    },
    {
      "cell_type": "code",
      "source": [
        "# взято из nltk.corpus.stopwords.words('russian')\n",
        "stopwords = [\n",
        " 'и',\n",
        " 'в',\n",
        " 'во',\n",
        " 'не',\n",
        " 'что',\n",
        " 'он',\n",
        " 'на',\n",
        " 'я',\n",
        " 'с',\n",
        " 'со',\n",
        " 'как',\n",
        " 'а',\n",
        " 'то',\n",
        " 'все',\n",
        " 'она',\n",
        " 'так',\n",
        " 'его',\n",
        " 'но',\n",
        " 'да',\n",
        " 'ты',\n",
        " 'к',\n",
        " 'у',\n",
        " 'же',\n",
        " 'вы',\n",
        " 'за',\n",
        " 'бы',\n",
        " 'по',\n",
        " 'только',\n",
        " 'ее',\n",
        " 'мне',\n",
        " 'было',\n",
        " 'вот',\n",
        " 'от',\n",
        " 'меня',\n",
        " 'еще',\n",
        " 'нет',\n",
        " 'о',\n",
        " 'из',\n",
        " 'ему',\n",
        " 'теперь',\n",
        " 'когда',\n",
        " 'даже',\n",
        " 'ну',\n",
        " 'вдруг',\n",
        " 'ли',\n",
        " 'если',\n",
        " 'уже',\n",
        " 'или',\n",
        " 'ни',\n",
        " 'быть',\n",
        " 'был',\n",
        " 'него',\n",
        " 'до',\n",
        " 'вас',\n",
        " 'нибудь',\n",
        " 'опять',\n",
        " 'уж',\n",
        " 'вам',\n",
        " 'ведь',\n",
        " 'там',\n",
        " 'потом',\n",
        " 'себя',\n",
        " 'ничего',\n",
        " 'ей',\n",
        " 'может',\n",
        " 'они',\n",
        " 'тут',\n",
        " 'где',\n",
        " 'есть',\n",
        " 'надо',\n",
        " 'ней',\n",
        " 'для',\n",
        " 'мы',\n",
        " 'тебя',\n",
        " 'их',\n",
        " 'чем',\n",
        " 'была',\n",
        " 'сам',\n",
        " 'чтоб',\n",
        " 'без',\n",
        " 'будто',\n",
        " 'чего',\n",
        " 'раз',\n",
        " 'тоже',\n",
        " 'себе',\n",
        " 'под',\n",
        " 'будет',\n",
        " 'ж',\n",
        " 'тогда',\n",
        " 'кто',\n",
        " 'этот',\n",
        " 'того',\n",
        " 'потому',\n",
        " 'этого',\n",
        " 'какой',\n",
        " 'совсем',\n",
        " 'ним',\n",
        " 'здесь',\n",
        " 'этом',\n",
        " 'один',\n",
        " 'почти',\n",
        " 'мой',\n",
        " 'тем',\n",
        " 'чтобы',\n",
        " 'нее',\n",
        " 'сейчас',\n",
        " 'были',\n",
        " 'куда',\n",
        " 'зачем',\n",
        " 'всех',\n",
        " 'никогда',\n",
        " 'можно',\n",
        " 'при',\n",
        " 'наконец',\n",
        " 'два',\n",
        " 'об',\n",
        " 'другой',\n",
        " 'хоть',\n",
        " 'после',\n",
        " 'над',\n",
        " 'больше',\n",
        " 'тот',\n",
        " 'через',\n",
        " 'эти',\n",
        " 'нас',\n",
        " 'про',\n",
        " 'всего',\n",
        " 'них',\n",
        " 'какая',\n",
        " 'много',\n",
        " 'разве',\n",
        " 'три',\n",
        " 'эту',\n",
        " 'моя',\n",
        " 'впрочем',\n",
        " 'хорошо',\n",
        " 'свою',\n",
        " 'этой',\n",
        " 'перед',\n",
        " 'иногда',\n",
        " 'лучше',\n",
        " 'чуть',\n",
        " 'том',\n",
        " 'нельзя',\n",
        " 'такой',\n",
        " 'им',\n",
        " 'более',\n",
        " 'всегда',\n",
        " 'конечно',\n",
        " 'всю',\n",
        " 'между'\n",
        "]"
      ],
      "outputs": [],
      "execution_count": null,
      "metadata": {
        "id": "8864Mjm5BySj",
        "colab_type": "code",
        "colab": {}
      }
    },
    {
      "cell_type": "markdown",
      "source": [
        "теперь можно обработать весь массив слов, удалив все стоп слова.\n"
      ],
      "metadata": {
        "id": "2aab3MzGBySk",
        "colab_type": "text"
      }
    },
    {
      "cell_type": "code",
      "source": [
        "clear_tokens = [t for t in tokens if not t in stopwords]\n",
        "# Смотрим как изменился размер\n",
        "len(tokens), len(clear_tokens)"
      ],
      "outputs": [],
      "execution_count": null,
      "metadata": {
        "id": "Fp36F59RBySl",
        "colab_type": "code",
        "colab": {
          "base_uri": "https://localhost:8080/",
          "height": 36
        },
        "outputId": "29e43ed5-afa2-47ec-81f9-836124e95894",
        "executionInfo": {
          "status": "ok",
          "timestamp": 1536233836150,
          "user_tz": -300,
          "elapsed": 956,
          "user": {
            "displayName": "Анатолий Шицелов",
            "photoUrl": "https://lh3.googleusercontent.com/a/default-user=s128",
            "userId": "115746618463509631654"
          }
        }
      }
    },
    {
      "cell_type": "markdown",
      "source": [
        "## Шаг 3 - Создание словаря и удаление редких слов\n",
        "Для дальнейшей обработки текста нам необходимо определить словарь слов. Создадим его из нащего текста и одновременно подсчитаем количество появлений для каждого слова."
      ],
      "metadata": {
        "id": "jQiQeln3BySo",
        "colab_type": "text"
      }
    },
    {
      "cell_type": "code",
      "source": [
        "# импортируем словарь, который умеет устанавливать значения по умолчанию для элиментов\n",
        "from collections import defaultdict\n",
        "\n",
        "raw_dictionary = defaultdict(lambda: 0)\n",
        "\n",
        "# Создаем словарь и сразу же считаем количество слов\n",
        "for token in clear_tokens:\n",
        "    raw_dictionary[token] +=1\n",
        "    \n",
        "len(raw_dictionary)"
      ],
      "outputs": [],
      "execution_count": null,
      "metadata": {
        "id": "hD1bTjUSBySp",
        "colab_type": "code",
        "colab": {
          "base_uri": "https://localhost:8080/",
          "height": 36
        },
        "outputId": "4f4e8a10-c57d-4cee-dffe-c15721ad1b93",
        "executionInfo": {
          "status": "ok",
          "timestamp": 1536233838026,
          "user_tz": -300,
          "elapsed": 655,
          "user": {
            "displayName": "Анатолий Шицелов",
            "photoUrl": "https://lh3.googleusercontent.com/a/default-user=s128",
            "userId": "115746618463509631654"
          }
        }
      }
    },
    {
      "cell_type": "markdown",
      "source": [
        "Теперь удалим все слова встречающиеся менее 3-х раз"
      ],
      "metadata": {
        "id": "vUwxfa51BySr",
        "colab_type": "text"
      }
    },
    {
      "cell_type": "code",
      "source": [
        "dictionary = dict(filter(lambda x: x[1] >= 3, raw_dictionary.items()))\n",
        "len(dictionary)"
      ],
      "outputs": [],
      "execution_count": null,
      "metadata": {
        "id": "edii9MPuBySs",
        "colab_type": "code",
        "colab": {
          "base_uri": "https://localhost:8080/",
          "height": 36
        },
        "outputId": "bf390a33-4be7-442e-c78a-9608b236eefe",
        "executionInfo": {
          "status": "ok",
          "timestamp": 1536233841920,
          "user_tz": -300,
          "elapsed": 682,
          "user": {
            "displayName": "Анатолий Шицелов",
            "photoUrl": "https://lh3.googleusercontent.com/a/default-user=s128",
            "userId": "115746618463509631654"
          }
        }
      }
    },
    {
      "cell_type": "markdown",
      "source": [
        "## Задание\n",
        "\n",
        "Напишите класс который вополняет препроцессинг текста.\n",
        "Класс должен иметь следующие методы\n",
        "- fit - создание словаря\n",
        "- transform - токенизация текста\n",
        "\n",
        "Пример использования класса\n",
        "> myclass = MyCLass()  \n",
        "  myclass.fit(raw_text)  \n",
        "  tokens_text_1 = myclass.transform(raw_text_1)  \n",
        "  tokens_text_2 = myclass.transform(raw_text_2)  "
      ],
      "metadata": {
        "id": "KUMPwAIyBySw",
        "colab_type": "text"
      }
    },
    {
      "cell_type": "code",
      "source": [
        "from collections import defaultdict\n",
        "\n\n",
        "class MyClass:\n",
        "    \n",
        "    stopwords = stopwords\n",
        "    \n",
        "    def fit(self, raw_text):\n",
        "      # Написите код для обучения (создание словаря)\n",
        "\n",
        "          \n",
        "    def transform(self, raw_text):\n",
        "      # напишите код для токенизации текста на основе метода fit\n",
        "      # fit должен возвращать токенизированый текст      \n",
        "      "
      ],
      "outputs": [],
      "execution_count": null,
      "metadata": {
        "id": "a0lpzklnBySw",
        "colab_type": "code",
        "colab": {}
      }
    },
    {
      "cell_type": "code",
      "source": [
        "myclass = MyClass()\n",
        "myclass.fit(raw_text)\n",
        "tokenize_text = myclass.transform(raw_text)"
      ],
      "outputs": [],
      "execution_count": null,
      "metadata": {
        "id": "c_jhqSbcp1Om",
        "colab_type": "code",
        "colab": {}
      }
    },
    {
      "cell_type": "code",
      "source": [
        "tokenize_text"
      ],
      "outputs": [],
      "execution_count": null,
      "metadata": {
        "id": "V3zzu5_Zp2--",
        "colab_type": "code",
        "colab": {
          "base_uri": "https://localhost:8080/",
          "height": 18903
        },
        "outputId": "e72cd5b9-55ce-49d4-c955-824071817d1c",
        "executionInfo": {
          "status": "ok",
          "timestamp": 1536128670060,
          "user_tz": -300,
          "elapsed": 638,
          "user": {
            "displayName": "Анатолий Шицелов",
            "photoUrl": "https://lh3.googleusercontent.com/a/default-user=s128",
            "userId": "115746618463509631654"
          }
        }
      }
    }
  ],
  "metadata": {
    "colab": {
      "name": "Урок 1.ipynb",
      "version": "0.3.2",
      "provenance": [],
      "collapsed_sections": [],
      "toc_visible": true
    },
    "kernelspec": {
      "name": "python3",
      "language": "python",
      "display_name": "Python 3"
    },
    "kernel_info": {
      "name": "python3"
    },
    "language_info": {
      "name": "python",
      "version": "3.6.5",
      "mimetype": "text/x-python",
      "codemirror_mode": {
        "name": "ipython",
        "version": 3
      },
      "pygments_lexer": "ipython3",
      "nbconvert_exporter": "python",
      "file_extension": ".py"
    },
    "nteract": {
      "version": "0.8.4"
    }
  },
  "nbformat": 4,
  "nbformat_minor": 0
}